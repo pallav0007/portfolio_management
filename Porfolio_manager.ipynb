{
  "nbformat": 4,
  "nbformat_minor": 0,
  "metadata": {
    "colab": {
      "name": "Porfolio_manager.ipynb",
      "provenance": [],
      "authorship_tag": "ABX9TyNflE2cBjT2k6PgbfCcUAhb",
      "include_colab_link": true
    },
    "kernelspec": {
      "name": "python3",
      "display_name": "Python 3"
    },
    "language_info": {
      "name": "python"
    }
  },
  "cells": [
    {
      "cell_type": "markdown",
      "metadata": {
        "id": "view-in-github",
        "colab_type": "text"
      },
      "source": [
        "<a href=\"https://colab.research.google.com/github/pallav0007/portfolio_management/blob/main/Porfolio_manager.ipynb\" target=\"_parent\"><img src=\"https://colab.research.google.com/assets/colab-badge.svg\" alt=\"Open In Colab\"/></a>"
      ]
    },
    {
      "cell_type": "markdown",
      "metadata": {
        "id": "-44yNVdFe1qn"
      },
      "source": [
        "###Installing required Dependencies"
      ]
    },
    {
      "cell_type": "code",
      "metadata": {
        "id": "qLKABFQre-iD"
      },
      "source": [
        "!pip install tensorflow-gpu==1.15.0 tensorflow==1.15.0 stable-baselines gym-anytrading gym # for creating environment and training model\n",
        "!pip install nsepy # for getting real time NSE data\n",
        "!pip install ta  # for technical indicator analysis"
      ],
      "execution_count": null,
      "outputs": []
    },
    {
      "cell_type": "markdown",
      "metadata": {
        "id": "rCbFeksae0AZ"
      },
      "source": [
        "###Importing the libraries"
      ]
    },
    {
      "cell_type": "code",
      "metadata": {
        "id": "3q60Ntf2fkSP"
      },
      "source": [
        "import gym\n",
        "import gym_anytrading\n",
        "\n",
        "# Stable baselines - rl stuff\n",
        "from stable_baselines.common.vec_env import DummyVecEnv\n",
        "from stable_baselines import A2C\n",
        "\n",
        "# Processing libraries\n",
        "import numpy as np\n",
        "import pandas as pd\n",
        "from matplotlib import pyplot as plt\n",
        "from nsepy import get_history\n",
        "import datetime\n",
        "import ta\n",
        "from ta.momentum import RSIIndicator\n",
        "from ta.trend import MACD\n",
        "import pandas as pd\n",
        "import pandas\n",
        "import random\n",
        "import datetime\n",
        "import pandas as pd"
      ],
      "execution_count": null,
      "outputs": []
    },
    {
      "cell_type": "markdown",
      "metadata": {
        "id": "seAh9pOHftVO"
      },
      "source": [
        "###Function to create custom Dataframe with custom indicators\n"
      ]
    },
    {
      "cell_type": "code",
      "metadata": {
        "id": "20bxm2t8gBQS"
      },
      "source": [
        "dt=datetime.date.today()\n",
        "def in_squeeze(df):\n",
        "    return (df['lower_band'] > df['lower_keltner']) and (df['upper_band'] < df['upper_keltner'])\n",
        "def score_col(dat):\n",
        "    score=0\n",
        "    if (dat[\"rsi\"]) >= 60:\n",
        "        score+=5\n",
        "    if dat['squeeze_on']:\n",
        "        score+=10\n",
        "    if dat[\"dev_per\"] > 40:\n",
        "        score+=5\n",
        "    if dat[\"macd\"]-dat[\"mach_Signal\"]>=0:\n",
        "        score+=5\n",
        "    return score\n",
        "def get_dataframe(stock,index=False):\n",
        "    df = get_history(symbol=stock,\n",
        "                      start=dt - datetime.timedelta(2000),\n",
        "                     index=index,\n",
        "                      end=dt)\n",
        "    df['20sma'] = df['Close'].rolling(window=20).mean()\n",
        "    df['stddev'] = df['Close'].rolling(window=20).std()\n",
        "    df['lower_band'] = df['20sma'] - (2 * df['stddev'])\n",
        "    df['upper_band'] = df['20sma'] + (2 * df['stddev'])\n",
        "    df[\"cp\"]=df[\"Close\"].shift(1)\n",
        "    df[\"p1\"]=abs(df[\"High\"]-df[\"cp\"])\n",
        "    df[\"p2\"]=abs(df[\"Low\"]-df[\"cp\"])\n",
        "    df['p3'] = abs(df['High'] - df['Low'])\n",
        "    df[\"TR\"]=df[[\"p1\",\"p2\",\"p3\"]].max(axis=1)\n",
        "    df['ATR'] = df['TR'].rolling(window=20).mean()\n",
        "    df[\"avgvol3\"] = df[\"Volume\"].rolling(window=10).mean()\n",
        "    df[\"avgvol10\"] = df[\"Volume\"].rolling(window=3).mean()\n",
        "    df['lower_keltner'] = df['20sma'] - (df['ATR'] * 1.5)\n",
        "    df['upper_keltner'] = df['20sma'] + (df['ATR'] * 1.5)\n",
        "    rsi_indicator = RSIIndicator(df[\"Close\"], 15)\n",
        "    df['rsi'] = rsi_indicator.rsi()\n",
        "    macd_int = MACD(df[\"Close\"], 26, 12, 9)\n",
        "    df[\"macd\"] = macd_int.macd()\n",
        "    df['mach_Histogram'] = macd_int.macd_diff()\n",
        "    df['mach_Signal'] = macd_int.macd_signal()\n",
        "\n",
        "    df['squeeze_on'] = df.apply(in_squeeze, axis=1)\n",
        "    df[\"dev_per\"]=(df[\"Deliverable Volume\"]/df[\"Volume\"])*100\n",
        "\n",
        "    df[\"Date\"]=df.index\n",
        "    df.set_index('Date', inplace=True)\n",
        "    df[\"score\"]=df.apply(score_col,axis=1)\n",
        "    df = df.dropna(how='any')\n",
        "    df=df.drop(\"Symbol\",axis=1)\n",
        "    df = df.drop(\"Series\",axis=1)\n",
        "    return df\n"
      ],
      "execution_count": null,
      "outputs": []
    },
    {
      "cell_type": "markdown",
      "metadata": {
        "id": "fqdTMvrfgIRv"
      },
      "source": [
        "###Calling the database using the functions above\n"
      ]
    },
    {
      "cell_type": "code",
      "metadata": {
        "id": "9fR5AUfZgN4l"
      },
      "source": [
        "stock=input()\n",
        "df=get_dataframe(stock.upper())\n",
        "# df=pd.read_csv(\"/content/drive/MyDrive/colab_custom_data.csv\") alternatively use preprocessed file"
      ],
      "execution_count": null,
      "outputs": []
    },
    {
      "cell_type": "markdown",
      "metadata": {
        "id": "YNtbe9j8glJk"
      },
      "source": [
        "###Create Environment and Add custom signals"
      ]
    },
    {
      "cell_type": "code",
      "metadata": {
        "id": "9xkZRpLQguNc"
      },
      "source": [
        "env = gym.make('stocks-v0', df=df, frame_bound=(5,250), window_size=5)\n"
      ],
      "execution_count": null,
      "outputs": []
    },
    {
      "cell_type": "code",
      "metadata": {
        "id": "ZsVABRbAgym_"
      },
      "source": [
        "from gym_anytrading.envs import StocksEnv\n",
        "def add_signals(env):\n",
        "    start = env.frame_bound[0] - env.window_size\n",
        "    end = env.frame_bound[1]\n",
        "    prices = env.df.loc[:, 'Low'].to_numpy()[start:end]\n",
        "    signal_features = env.df.loc[:,['Prev Close','Low', 'Close', 'VWAP', 'Volume','Trades', '%Deliverble', '20sma',\n",
        "       'stddev','ATR','avgvol10', 'rsi','macd', 'mach_Histogram', 'dev_per', 'score',\n",
        "       'squeeze_on_True']].to_numpy()[start:end]\n",
        "    return prices, signal_features\n",
        "class MyCustomEnv(StocksEnv):\n",
        "    _process_data = add_signals\n",
        "    \n",
        "env2 = MyCustomEnv(df=df, window_size=12, frame_bound=(12,50))\n",
        "env_maker = lambda: env2\n",
        "env = DummyVecEnv([env_maker])"
      ],
      "execution_count": null,
      "outputs": []
    },
    {
      "cell_type": "markdown",
      "metadata": {
        "id": "DQUnfw9Rg4dN"
      },
      "source": [
        "###Choose a policy and Train Model\n"
      ]
    },
    {
      "cell_type": "code",
      "metadata": {
        "id": "dGTDefKKg8M6"
      },
      "source": [
        "model = A2C('MlpLstmPolicy', env, verbose=1) \n",
        "model.learn(total_timesteps=1000000)\n",
        "# optional save model on drive to save training time\n",
        "# model.save(\"/content/drive/MyDrive/ri_model\")\n",
        "# and load saved model with\n",
        "# model = A2C.load(\"/content/drive/MyDrive/ri_model\", verbose=1)"
      ],
      "execution_count": null,
      "outputs": []
    },
    {
      "cell_type": "markdown",
      "metadata": {
        "id": "iEfZCy9eg_Q_"
      },
      "source": [
        "###Use Model to get Predictions\n"
      ]
    },
    {
      "cell_type": "code",
      "metadata": {
        "id": "LA1bkH9ThFVf"
      },
      "source": [
        "env = MyCustomEnv(df=df, window_size=12, frame_bound=(80,250))\n",
        "obs = env.reset()\n",
        "while True: \n",
        "    obs = obs[np.newaxis, ...]\n",
        "    x=model.predict(obs)\n",
        "    action, _states = x\n",
        "    print(x)\n",
        "    obs, rewards, done, info = env.step(action)\n",
        "    if done:\n",
        "        print(\"info\", info)\n",
        "        break\n"
      ],
      "execution_count": null,
      "outputs": []
    },
    {
      "cell_type": "markdown",
      "metadata": {
        "id": "Y-XfyfSGhdx-"
      },
      "source": [
        "###visualize the predictions"
      ]
    },
    {
      "cell_type": "code",
      "metadata": {
        "id": "mk-7UegJhiBz"
      },
      "source": [
        "plt.figure(figsize=(15,6))\n",
        "plt.cla()\n",
        "env.render_all()\n",
        "plt.show()"
      ],
      "execution_count": null,
      "outputs": []
    }
  ]
}